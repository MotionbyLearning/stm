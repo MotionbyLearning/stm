{
 "cells": [
  {
   "cell_type": "code",
   "execution_count": 1,
   "id": "604a1967-a0cd-48b4-92db-c11a3f5f5261",
   "metadata": {},
   "outputs": [],
   "source": [
    "import numpy as np\n",
    "import xarray as xr\n",
    "import stmat\n",
    "import geopandas as gpd\n",
    "import shapely as sp"
   ]
  },
  {
   "cell_type": "markdown",
   "id": "6d1bce3f",
   "metadata": {},
   "source": [
    "Initialize raster coordinate information:"
   ]
  },
  {
   "cell_type": "code",
   "execution_count": 33,
   "id": "bad7fb24-bb45-453e-a47f-32a219f50bf6",
   "metadata": {},
   "outputs": [
    {
     "name": "stdout",
     "output_type": "stream",
     "text": [
      "(10, 10)\n"
     ]
    }
   ],
   "source": [
    "minx = 5 \n",
    "maxx = 10\n",
    "miny = 50\n",
    "maxy = 55\n",
    "dx = 0.5 #Resolution in x\n",
    "dy = 0.5 #Resolution in y\n",
    "\n",
    "nx = (maxx - minx)/dx\n",
    "ny = (maxy - miny)/dy\n",
    "\n",
    "xras = np.arange(minx, maxx, dx)\n",
    "yras = np.arange(miny, maxy, dy)\n",
    "\n",
    "xxras, yyras =np.meshgrid(xras,yras) #Raster meshgrid\n",
    "print (xxras.shape)"
   ]
  },
  {
   "cell_type": "markdown",
   "id": "45776ec8-4094-4c5b-b855-d8fb7b2f803f",
   "metadata": {},
   "source": [
    "Create synthetic data "
   ]
  },
  {
   "cell_type": "code",
   "execution_count": 3,
   "id": "b544832c-f17a-4f73-b24f-7bc6dfbad866",
   "metadata": {},
   "outputs": [],
   "source": [
    "n_points = 10000\n",
    "n_time = 1"
   ]
  },
  {
   "cell_type": "markdown",
   "id": "ae995a16-7399-4b8e-8761-0f851d3e0ae3",
   "metadata": {},
   "source": [
    "synthetic h2ph data"
   ]
  },
  {
   "cell_type": "code",
   "execution_count": 4,
   "id": "d644cd66-717e-4886-a929-b7e79b499b5d",
   "metadata": {},
   "outputs": [
    {
     "name": "stdout",
     "output_type": "stream",
     "text": [
      "(10000, 1)\n"
     ]
    }
   ],
   "source": [
    "stack = np.empty((n_points,0))\n",
    "\n",
    "for i in range(1):\n",
    "    slc= np.random.random((100,100))\n",
    "    stack = np.append(stack, slc[0:100,0:100].reshape(n_points,1), axis=1)\n",
    "\n",
    "stack = np.array(stack*10, dtype='int')\n",
    "print(stack.shape)\n"
   ]
  },
  {
   "cell_type": "markdown",
   "id": "cf1676d3-7e28-44f8-9382-aafcd3285b01",
   "metadata": {},
   "source": [
    "Case 1: synthetic coords (sorted in x and y)"
   ]
  },
  {
   "cell_type": "code",
   "execution_count": 5,
   "id": "9dfe84e0-9c8b-4d25-b5e9-a02f685a5f75",
   "metadata": {},
   "outputs": [],
   "source": [
    "x = np.sort(np.random.random(100)*(maxx - minx) + minx)\n",
    "y = np.sort(np.random.random(100)*(maxy - miny) + miny)"
   ]
  },
  {
   "cell_type": "code",
   "execution_count": 6,
   "id": "b703f7a6-99c0-40f8-a131-7c8c665382df",
   "metadata": {},
   "outputs": [
    {
     "data": {
      "text/plain": [
       "array([[5.00324373, 5.02304993, 5.03510441, ..., 9.89674037, 9.90247335,\n",
       "        9.95201049],\n",
       "       [5.00324373, 5.02304993, 5.03510441, ..., 9.89674037, 9.90247335,\n",
       "        9.95201049],\n",
       "       [5.00324373, 5.02304993, 5.03510441, ..., 9.89674037, 9.90247335,\n",
       "        9.95201049],\n",
       "       ...,\n",
       "       [5.00324373, 5.02304993, 5.03510441, ..., 9.89674037, 9.90247335,\n",
       "        9.95201049],\n",
       "       [5.00324373, 5.02304993, 5.03510441, ..., 9.89674037, 9.90247335,\n",
       "        9.95201049],\n",
       "       [5.00324373, 5.02304993, 5.03510441, ..., 9.89674037, 9.90247335,\n",
       "        9.95201049]])"
      ]
     },
     "execution_count": 6,
     "metadata": {},
     "output_type": "execute_result"
    }
   ],
   "source": [
    "xx, yy = np.meshgrid(x,y)\n",
    "xxreshape = xx.reshape(n_points,1)\n",
    "yyreshape = yy.reshape(n_points,1)\n",
    "xx"
   ]
  },
  {
   "cell_type": "code",
   "execution_count": 7,
   "id": "e5dc7ef0-3782-44ea-9c3c-cda6e269ebd2",
   "metadata": {},
   "outputs": [
    {
     "name": "stdout",
     "output_type": "stream",
     "text": [
      "[[5.00324373]\n",
      " [5.02304993]\n",
      " [5.03510441]\n",
      " ...\n",
      " [9.89674037]\n",
      " [9.90247335]\n",
      " [9.95201049]]\n",
      "(10000, 1)\n"
     ]
    }
   ],
   "source": [
    "stack_xx = np.empty((n_points,0))\n",
    "stack_yy = np.empty((n_points,0))\n",
    "\n",
    "for i in range(1):\n",
    "    stack_xx = np.append(stack_xx, xxreshape, axis=1)\n",
    "    stack_yy = np.append(stack_yy, yyreshape, axis=1)\n",
    "\n",
    "print(stack_xx)\n",
    "print(stack_xx.shape)\n"
   ]
  },
  {
   "cell_type": "code",
   "execution_count": 8,
   "id": "3a446cd0-2c47-4e09-b049-f42e4fa680b0",
   "metadata": {},
   "outputs": [
    {
     "data": {
      "text/html": [
       "<div><svg style=\"position: absolute; width: 0; height: 0; overflow: hidden\">\n",
       "<defs>\n",
       "<symbol id=\"icon-database\" viewBox=\"0 0 32 32\">\n",
       "<path d=\"M16 0c-8.837 0-16 2.239-16 5v4c0 2.761 7.163 5 16 5s16-2.239 16-5v-4c0-2.761-7.163-5-16-5z\"></path>\n",
       "<path d=\"M16 17c-8.837 0-16-2.239-16-5v6c0 2.761 7.163 5 16 5s16-2.239 16-5v-6c0 2.761-7.163 5-16 5z\"></path>\n",
       "<path d=\"M16 26c-8.837 0-16-2.239-16-5v6c0 2.761 7.163 5 16 5s16-2.239 16-5v-6c0 2.761-7.163 5-16 5z\"></path>\n",
       "</symbol>\n",
       "<symbol id=\"icon-file-text2\" viewBox=\"0 0 32 32\">\n",
       "<path d=\"M28.681 7.159c-0.694-0.947-1.662-2.053-2.724-3.116s-2.169-2.030-3.116-2.724c-1.612-1.182-2.393-1.319-2.841-1.319h-15.5c-1.378 0-2.5 1.121-2.5 2.5v27c0 1.378 1.122 2.5 2.5 2.5h23c1.378 0 2.5-1.122 2.5-2.5v-19.5c0-0.448-0.137-1.23-1.319-2.841zM24.543 5.457c0.959 0.959 1.712 1.825 2.268 2.543h-4.811v-4.811c0.718 0.556 1.584 1.309 2.543 2.268zM28 29.5c0 0.271-0.229 0.5-0.5 0.5h-23c-0.271 0-0.5-0.229-0.5-0.5v-27c0-0.271 0.229-0.5 0.5-0.5 0 0 15.499-0 15.5 0v7c0 0.552 0.448 1 1 1h7v19.5z\"></path>\n",
       "<path d=\"M23 26h-14c-0.552 0-1-0.448-1-1s0.448-1 1-1h14c0.552 0 1 0.448 1 1s-0.448 1-1 1z\"></path>\n",
       "<path d=\"M23 22h-14c-0.552 0-1-0.448-1-1s0.448-1 1-1h14c0.552 0 1 0.448 1 1s-0.448 1-1 1z\"></path>\n",
       "<path d=\"M23 18h-14c-0.552 0-1-0.448-1-1s0.448-1 1-1h14c0.552 0 1 0.448 1 1s-0.448 1-1 1z\"></path>\n",
       "</symbol>\n",
       "</defs>\n",
       "</svg>\n",
       "<style>/* CSS stylesheet for displaying xarray objects in jupyterlab.\n",
       " *\n",
       " */\n",
       "\n",
       ":root {\n",
       "  --xr-font-color0: var(--jp-content-font-color0, rgba(0, 0, 0, 1));\n",
       "  --xr-font-color2: var(--jp-content-font-color2, rgba(0, 0, 0, 0.54));\n",
       "  --xr-font-color3: var(--jp-content-font-color3, rgba(0, 0, 0, 0.38));\n",
       "  --xr-border-color: var(--jp-border-color2, #e0e0e0);\n",
       "  --xr-disabled-color: var(--jp-layout-color3, #bdbdbd);\n",
       "  --xr-background-color: var(--jp-layout-color0, white);\n",
       "  --xr-background-color-row-even: var(--jp-layout-color1, white);\n",
       "  --xr-background-color-row-odd: var(--jp-layout-color2, #eeeeee);\n",
       "}\n",
       "\n",
       "html[theme=dark],\n",
       "body.vscode-dark {\n",
       "  --xr-font-color0: rgba(255, 255, 255, 1);\n",
       "  --xr-font-color2: rgba(255, 255, 255, 0.54);\n",
       "  --xr-font-color3: rgba(255, 255, 255, 0.38);\n",
       "  --xr-border-color: #1F1F1F;\n",
       "  --xr-disabled-color: #515151;\n",
       "  --xr-background-color: #111111;\n",
       "  --xr-background-color-row-even: #111111;\n",
       "  --xr-background-color-row-odd: #313131;\n",
       "}\n",
       "\n",
       ".xr-wrap {\n",
       "  display: block;\n",
       "  min-width: 300px;\n",
       "  max-width: 700px;\n",
       "}\n",
       "\n",
       ".xr-text-repr-fallback {\n",
       "  /* fallback to plain text repr when CSS is not injected (untrusted notebook) */\n",
       "  display: none;\n",
       "}\n",
       "\n",
       ".xr-header {\n",
       "  padding-top: 6px;\n",
       "  padding-bottom: 6px;\n",
       "  margin-bottom: 4px;\n",
       "  border-bottom: solid 1px var(--xr-border-color);\n",
       "}\n",
       "\n",
       ".xr-header > div,\n",
       ".xr-header > ul {\n",
       "  display: inline;\n",
       "  margin-top: 0;\n",
       "  margin-bottom: 0;\n",
       "}\n",
       "\n",
       ".xr-obj-type,\n",
       ".xr-array-name {\n",
       "  margin-left: 2px;\n",
       "  margin-right: 10px;\n",
       "}\n",
       "\n",
       ".xr-obj-type {\n",
       "  color: var(--xr-font-color2);\n",
       "}\n",
       "\n",
       ".xr-sections {\n",
       "  padding-left: 0 !important;\n",
       "  display: grid;\n",
       "  grid-template-columns: 150px auto auto 1fr 20px 20px;\n",
       "}\n",
       "\n",
       ".xr-section-item {\n",
       "  display: contents;\n",
       "}\n",
       "\n",
       ".xr-section-item input {\n",
       "  display: none;\n",
       "}\n",
       "\n",
       ".xr-section-item input + label {\n",
       "  color: var(--xr-disabled-color);\n",
       "}\n",
       "\n",
       ".xr-section-item input:enabled + label {\n",
       "  cursor: pointer;\n",
       "  color: var(--xr-font-color2);\n",
       "}\n",
       "\n",
       ".xr-section-item input:enabled + label:hover {\n",
       "  color: var(--xr-font-color0);\n",
       "}\n",
       "\n",
       ".xr-section-summary {\n",
       "  grid-column: 1;\n",
       "  color: var(--xr-font-color2);\n",
       "  font-weight: 500;\n",
       "}\n",
       "\n",
       ".xr-section-summary > span {\n",
       "  display: inline-block;\n",
       "  padding-left: 0.5em;\n",
       "}\n",
       "\n",
       ".xr-section-summary-in:disabled + label {\n",
       "  color: var(--xr-font-color2);\n",
       "}\n",
       "\n",
       ".xr-section-summary-in + label:before {\n",
       "  display: inline-block;\n",
       "  content: '►';\n",
       "  font-size: 11px;\n",
       "  width: 15px;\n",
       "  text-align: center;\n",
       "}\n",
       "\n",
       ".xr-section-summary-in:disabled + label:before {\n",
       "  color: var(--xr-disabled-color);\n",
       "}\n",
       "\n",
       ".xr-section-summary-in:checked + label:before {\n",
       "  content: '▼';\n",
       "}\n",
       "\n",
       ".xr-section-summary-in:checked + label > span {\n",
       "  display: none;\n",
       "}\n",
       "\n",
       ".xr-section-summary,\n",
       ".xr-section-inline-details {\n",
       "  padding-top: 4px;\n",
       "  padding-bottom: 4px;\n",
       "}\n",
       "\n",
       ".xr-section-inline-details {\n",
       "  grid-column: 2 / -1;\n",
       "}\n",
       "\n",
       ".xr-section-details {\n",
       "  display: none;\n",
       "  grid-column: 1 / -1;\n",
       "  margin-bottom: 5px;\n",
       "}\n",
       "\n",
       ".xr-section-summary-in:checked ~ .xr-section-details {\n",
       "  display: contents;\n",
       "}\n",
       "\n",
       ".xr-array-wrap {\n",
       "  grid-column: 1 / -1;\n",
       "  display: grid;\n",
       "  grid-template-columns: 20px auto;\n",
       "}\n",
       "\n",
       ".xr-array-wrap > label {\n",
       "  grid-column: 1;\n",
       "  vertical-align: top;\n",
       "}\n",
       "\n",
       ".xr-preview {\n",
       "  color: var(--xr-font-color3);\n",
       "}\n",
       "\n",
       ".xr-array-preview,\n",
       ".xr-array-data {\n",
       "  padding: 0 5px !important;\n",
       "  grid-column: 2;\n",
       "}\n",
       "\n",
       ".xr-array-data,\n",
       ".xr-array-in:checked ~ .xr-array-preview {\n",
       "  display: none;\n",
       "}\n",
       "\n",
       ".xr-array-in:checked ~ .xr-array-data,\n",
       ".xr-array-preview {\n",
       "  display: inline-block;\n",
       "}\n",
       "\n",
       ".xr-dim-list {\n",
       "  display: inline-block !important;\n",
       "  list-style: none;\n",
       "  padding: 0 !important;\n",
       "  margin: 0;\n",
       "}\n",
       "\n",
       ".xr-dim-list li {\n",
       "  display: inline-block;\n",
       "  padding: 0;\n",
       "  margin: 0;\n",
       "}\n",
       "\n",
       ".xr-dim-list:before {\n",
       "  content: '(';\n",
       "}\n",
       "\n",
       ".xr-dim-list:after {\n",
       "  content: ')';\n",
       "}\n",
       "\n",
       ".xr-dim-list li:not(:last-child):after {\n",
       "  content: ',';\n",
       "  padding-right: 5px;\n",
       "}\n",
       "\n",
       ".xr-has-index {\n",
       "  font-weight: bold;\n",
       "}\n",
       "\n",
       ".xr-var-list,\n",
       ".xr-var-item {\n",
       "  display: contents;\n",
       "}\n",
       "\n",
       ".xr-var-item > div,\n",
       ".xr-var-item label,\n",
       ".xr-var-item > .xr-var-name span {\n",
       "  background-color: var(--xr-background-color-row-even);\n",
       "  margin-bottom: 0;\n",
       "}\n",
       "\n",
       ".xr-var-item > .xr-var-name:hover span {\n",
       "  padding-right: 5px;\n",
       "}\n",
       "\n",
       ".xr-var-list > li:nth-child(odd) > div,\n",
       ".xr-var-list > li:nth-child(odd) > label,\n",
       ".xr-var-list > li:nth-child(odd) > .xr-var-name span {\n",
       "  background-color: var(--xr-background-color-row-odd);\n",
       "}\n",
       "\n",
       ".xr-var-name {\n",
       "  grid-column: 1;\n",
       "}\n",
       "\n",
       ".xr-var-dims {\n",
       "  grid-column: 2;\n",
       "}\n",
       "\n",
       ".xr-var-dtype {\n",
       "  grid-column: 3;\n",
       "  text-align: right;\n",
       "  color: var(--xr-font-color2);\n",
       "}\n",
       "\n",
       ".xr-var-preview {\n",
       "  grid-column: 4;\n",
       "}\n",
       "\n",
       ".xr-var-name,\n",
       ".xr-var-dims,\n",
       ".xr-var-dtype,\n",
       ".xr-preview,\n",
       ".xr-attrs dt {\n",
       "  white-space: nowrap;\n",
       "  overflow: hidden;\n",
       "  text-overflow: ellipsis;\n",
       "  padding-right: 10px;\n",
       "}\n",
       "\n",
       ".xr-var-name:hover,\n",
       ".xr-var-dims:hover,\n",
       ".xr-var-dtype:hover,\n",
       ".xr-attrs dt:hover {\n",
       "  overflow: visible;\n",
       "  width: auto;\n",
       "  z-index: 1;\n",
       "}\n",
       "\n",
       ".xr-var-attrs,\n",
       ".xr-var-data {\n",
       "  display: none;\n",
       "  background-color: var(--xr-background-color) !important;\n",
       "  padding-bottom: 5px !important;\n",
       "}\n",
       "\n",
       ".xr-var-attrs-in:checked ~ .xr-var-attrs,\n",
       ".xr-var-data-in:checked ~ .xr-var-data {\n",
       "  display: block;\n",
       "}\n",
       "\n",
       ".xr-var-data > table {\n",
       "  float: right;\n",
       "}\n",
       "\n",
       ".xr-var-name span,\n",
       ".xr-var-data,\n",
       ".xr-attrs {\n",
       "  padding-left: 25px !important;\n",
       "}\n",
       "\n",
       ".xr-attrs,\n",
       ".xr-var-attrs,\n",
       ".xr-var-data {\n",
       "  grid-column: 1 / -1;\n",
       "}\n",
       "\n",
       "dl.xr-attrs {\n",
       "  padding: 0;\n",
       "  margin: 0;\n",
       "  display: grid;\n",
       "  grid-template-columns: 125px auto;\n",
       "}\n",
       "\n",
       ".xr-attrs dt,\n",
       ".xr-attrs dd {\n",
       "  padding: 0;\n",
       "  margin: 0;\n",
       "  float: left;\n",
       "  padding-right: 10px;\n",
       "  width: auto;\n",
       "}\n",
       "\n",
       ".xr-attrs dt {\n",
       "  font-weight: normal;\n",
       "  grid-column: 1;\n",
       "}\n",
       "\n",
       ".xr-attrs dt:hover span {\n",
       "  display: inline-block;\n",
       "  background: var(--xr-background-color);\n",
       "  padding-right: 10px;\n",
       "}\n",
       "\n",
       ".xr-attrs dd {\n",
       "  grid-column: 2;\n",
       "  white-space: pre-wrap;\n",
       "  word-break: break-all;\n",
       "}\n",
       "\n",
       ".xr-icon-database,\n",
       ".xr-icon-file-text2 {\n",
       "  display: inline-block;\n",
       "  vertical-align: middle;\n",
       "  width: 1em;\n",
       "  height: 1.5em !important;\n",
       "  stroke-width: 0;\n",
       "  stroke: currentColor;\n",
       "  fill: currentColor;\n",
       "}\n",
       "</style><pre class='xr-text-repr-fallback'>&lt;xarray.Dataset&gt;\n",
       "Dimensions:  (points: 10000, time: 1)\n",
       "Coordinates:\n",
       "  * points   (points) int64 0 1 2 3 4 5 6 ... 9993 9994 9995 9996 9997 9998 9999\n",
       "  * time     (time) int64 0\n",
       "Data variables:\n",
       "    h2ph     (points, time) int64 8 2 0 1 2 2 5 1 0 6 1 ... 0 2 6 4 2 6 3 2 5 6\n",
       "    xv       (points, time) float64 5.003 5.023 5.035 ... 9.897 9.902 9.952\n",
       "    yv       (points, time) float64 50.02 50.02 50.02 ... 54.94 54.94 54.94</pre><div class='xr-wrap' hidden><div class='xr-header'><div class='xr-obj-type'>xarray.Dataset</div></div><ul class='xr-sections'><li class='xr-section-item'><input id='section-2da103f1-7741-4439-9138-45d5b5ad9e79' class='xr-section-summary-in' type='checkbox' disabled ><label for='section-2da103f1-7741-4439-9138-45d5b5ad9e79' class='xr-section-summary'  title='Expand/collapse section'>Dimensions:</label><div class='xr-section-inline-details'><ul class='xr-dim-list'><li><span class='xr-has-index'>points</span>: 10000</li><li><span class='xr-has-index'>time</span>: 1</li></ul></div><div class='xr-section-details'></div></li><li class='xr-section-item'><input id='section-c1d83b96-e4f5-448a-a925-7f3723208627' class='xr-section-summary-in' type='checkbox'  checked><label for='section-c1d83b96-e4f5-448a-a925-7f3723208627' class='xr-section-summary' >Coordinates: <span>(2)</span></label><div class='xr-section-inline-details'></div><div class='xr-section-details'><ul class='xr-var-list'><li class='xr-var-item'><div class='xr-var-name'><span class='xr-has-index'>points</span></div><div class='xr-var-dims'>(points)</div><div class='xr-var-dtype'>int64</div><div class='xr-var-preview xr-preview'>0 1 2 3 4 ... 9996 9997 9998 9999</div><input id='attrs-4a1b6bb5-0540-423c-bb7d-00cd5429ca70' class='xr-var-attrs-in' type='checkbox' disabled><label for='attrs-4a1b6bb5-0540-423c-bb7d-00cd5429ca70' title='Show/Hide attributes'><svg class='icon xr-icon-file-text2'><use xlink:href='#icon-file-text2'></use></svg></label><input id='data-3cd0f143-2f75-4d42-89dc-c84bc60cc471' class='xr-var-data-in' type='checkbox'><label for='data-3cd0f143-2f75-4d42-89dc-c84bc60cc471' title='Show/Hide data repr'><svg class='icon xr-icon-database'><use xlink:href='#icon-database'></use></svg></label><div class='xr-var-attrs'><dl class='xr-attrs'></dl></div><div class='xr-var-data'><pre>array([   0,    1,    2, ..., 9997, 9998, 9999])</pre></div></li><li class='xr-var-item'><div class='xr-var-name'><span class='xr-has-index'>time</span></div><div class='xr-var-dims'>(time)</div><div class='xr-var-dtype'>int64</div><div class='xr-var-preview xr-preview'>0</div><input id='attrs-f72c6b4a-ea88-4f1d-af3e-c643e4d45c41' class='xr-var-attrs-in' type='checkbox' disabled><label for='attrs-f72c6b4a-ea88-4f1d-af3e-c643e4d45c41' title='Show/Hide attributes'><svg class='icon xr-icon-file-text2'><use xlink:href='#icon-file-text2'></use></svg></label><input id='data-434c26cc-9291-4a1a-b71d-83e47618254d' class='xr-var-data-in' type='checkbox'><label for='data-434c26cc-9291-4a1a-b71d-83e47618254d' title='Show/Hide data repr'><svg class='icon xr-icon-database'><use xlink:href='#icon-database'></use></svg></label><div class='xr-var-attrs'><dl class='xr-attrs'></dl></div><div class='xr-var-data'><pre>array([0])</pre></div></li></ul></div></li><li class='xr-section-item'><input id='section-f49d8761-be19-481f-bce2-991fedc44867' class='xr-section-summary-in' type='checkbox'  checked><label for='section-f49d8761-be19-481f-bce2-991fedc44867' class='xr-section-summary' >Data variables: <span>(3)</span></label><div class='xr-section-inline-details'></div><div class='xr-section-details'><ul class='xr-var-list'><li class='xr-var-item'><div class='xr-var-name'><span>h2ph</span></div><div class='xr-var-dims'>(points, time)</div><div class='xr-var-dtype'>int64</div><div class='xr-var-preview xr-preview'>8 2 0 1 2 2 5 1 ... 6 4 2 6 3 2 5 6</div><input id='attrs-d98378a8-c37a-4e79-844c-7f165b40f9a9' class='xr-var-attrs-in' type='checkbox' disabled><label for='attrs-d98378a8-c37a-4e79-844c-7f165b40f9a9' title='Show/Hide attributes'><svg class='icon xr-icon-file-text2'><use xlink:href='#icon-file-text2'></use></svg></label><input id='data-5b1cebae-a037-42c2-9266-110d01fcf48c' class='xr-var-data-in' type='checkbox'><label for='data-5b1cebae-a037-42c2-9266-110d01fcf48c' title='Show/Hide data repr'><svg class='icon xr-icon-database'><use xlink:href='#icon-database'></use></svg></label><div class='xr-var-attrs'><dl class='xr-attrs'></dl></div><div class='xr-var-data'><pre>array([[8],\n",
       "       [2],\n",
       "       [0],\n",
       "       ...,\n",
       "       [2],\n",
       "       [5],\n",
       "       [6]])</pre></div></li><li class='xr-var-item'><div class='xr-var-name'><span>xv</span></div><div class='xr-var-dims'>(points, time)</div><div class='xr-var-dtype'>float64</div><div class='xr-var-preview xr-preview'>5.003 5.023 5.035 ... 9.902 9.952</div><input id='attrs-5a43afb9-ffdb-4bf4-8332-c26723d19d6e' class='xr-var-attrs-in' type='checkbox' disabled><label for='attrs-5a43afb9-ffdb-4bf4-8332-c26723d19d6e' title='Show/Hide attributes'><svg class='icon xr-icon-file-text2'><use xlink:href='#icon-file-text2'></use></svg></label><input id='data-72006e2b-73fe-4f21-9b05-28063b0a7ed9' class='xr-var-data-in' type='checkbox'><label for='data-72006e2b-73fe-4f21-9b05-28063b0a7ed9' title='Show/Hide data repr'><svg class='icon xr-icon-database'><use xlink:href='#icon-database'></use></svg></label><div class='xr-var-attrs'><dl class='xr-attrs'></dl></div><div class='xr-var-data'><pre>array([[5.00324373],\n",
       "       [5.02304993],\n",
       "       [5.03510441],\n",
       "       ...,\n",
       "       [9.89674037],\n",
       "       [9.90247335],\n",
       "       [9.95201049]])</pre></div></li><li class='xr-var-item'><div class='xr-var-name'><span>yv</span></div><div class='xr-var-dims'>(points, time)</div><div class='xr-var-dtype'>float64</div><div class='xr-var-preview xr-preview'>50.02 50.02 50.02 ... 54.94 54.94</div><input id='attrs-bdabb490-b462-48b6-ab35-0651384d7f4c' class='xr-var-attrs-in' type='checkbox' disabled><label for='attrs-bdabb490-b462-48b6-ab35-0651384d7f4c' title='Show/Hide attributes'><svg class='icon xr-icon-file-text2'><use xlink:href='#icon-file-text2'></use></svg></label><input id='data-19ef0e31-35e4-4d11-9e83-5a0bfcb51324' class='xr-var-data-in' type='checkbox'><label for='data-19ef0e31-35e4-4d11-9e83-5a0bfcb51324' title='Show/Hide data repr'><svg class='icon xr-icon-database'><use xlink:href='#icon-database'></use></svg></label><div class='xr-var-attrs'><dl class='xr-attrs'></dl></div><div class='xr-var-data'><pre>array([[50.02138529],\n",
       "       [50.02138529],\n",
       "       [50.02138529],\n",
       "       ...,\n",
       "       [54.94230879],\n",
       "       [54.94230879],\n",
       "       [54.94230879]])</pre></div></li></ul></div></li><li class='xr-section-item'><input id='section-4a3983c2-a7b0-4d53-97f7-7e2b83a164d0' class='xr-section-summary-in' type='checkbox' disabled ><label for='section-4a3983c2-a7b0-4d53-97f7-7e2b83a164d0' class='xr-section-summary'  title='Expand/collapse section'>Attributes: <span>(0)</span></label><div class='xr-section-inline-details'></div><div class='xr-section-details'><dl class='xr-attrs'></dl></div></li></ul></div></div>"
      ],
      "text/plain": [
       "<xarray.Dataset>\n",
       "Dimensions:  (points: 10000, time: 1)\n",
       "Coordinates:\n",
       "  * points   (points) int64 0 1 2 3 4 5 6 ... 9993 9994 9995 9996 9997 9998 9999\n",
       "  * time     (time) int64 0\n",
       "Data variables:\n",
       "    h2ph     (points, time) int64 8 2 0 1 2 2 5 1 0 6 1 ... 0 2 6 4 2 6 3 2 5 6\n",
       "    xv       (points, time) float64 5.003 5.023 5.035 ... 9.897 9.902 9.952\n",
       "    yv       (points, time) float64 50.02 50.02 50.02 ... 54.94 54.94 54.94"
      ]
     },
     "execution_count": 8,
     "metadata": {},
     "output_type": "execute_result"
    }
   ],
   "source": [
    "data_xr = xr.Dataset(data_vars=dict(h2ph=([\"points\", \"time\"], stack), xv=([\"points\",\"time\"],stack_xx),yv=([\"points\",\"time\"],stack_yy),),\n",
    "                     coords=dict(\n",
    "                        points=np.arange(n_points),\n",
    "                        time=np.arange(n_time),\n",
    "                        ))\n",
    "\n",
    "data_xr"
   ]
  },
  {
   "cell_type": "code",
   "execution_count": 9,
   "id": "dc3dad33-73fa-410d-b0df-d1b0ce5f36f3",
   "metadata": {},
   "outputs": [],
   "source": [
    "import rasterio\n",
    "from rasterio import features\n",
    "from rasterio import enums\n",
    "import affine"
   ]
  },
  {
   "cell_type": "code",
   "execution_count": 10,
   "id": "e42398fe",
   "metadata": {},
   "outputs": [
    {
     "data": {
      "text/html": [
       "<div>\n",
       "<style scoped>\n",
       "    .dataframe tbody tr th:only-of-type {\n",
       "        vertical-align: middle;\n",
       "    }\n",
       "\n",
       "    .dataframe tbody tr th {\n",
       "        vertical-align: top;\n",
       "    }\n",
       "\n",
       "    .dataframe thead th {\n",
       "        text-align: right;\n",
       "    }\n",
       "</style>\n",
       "<table border=\"1\" class=\"dataframe\">\n",
       "  <thead>\n",
       "    <tr style=\"text-align: right;\">\n",
       "      <th></th>\n",
       "      <th>h2ph</th>\n",
       "      <th>geometry</th>\n",
       "    </tr>\n",
       "  </thead>\n",
       "  <tbody>\n",
       "    <tr>\n",
       "      <th>3195</th>\n",
       "      <td>0</td>\n",
       "      <td>POINT (9.85427 51.82315)</td>\n",
       "    </tr>\n",
       "    <tr>\n",
       "      <th>3636</th>\n",
       "      <td>0</td>\n",
       "      <td>POINT (6.65147 52.09543)</td>\n",
       "    </tr>\n",
       "    <tr>\n",
       "      <th>3647</th>\n",
       "      <td>0</td>\n",
       "      <td>POINT (7.24889 52.09543)</td>\n",
       "    </tr>\n",
       "    <tr>\n",
       "      <th>991</th>\n",
       "      <td>0</td>\n",
       "      <td>POINT (9.63646 50.30864)</td>\n",
       "    </tr>\n",
       "    <tr>\n",
       "      <th>3655</th>\n",
       "      <td>0</td>\n",
       "      <td>POINT (7.65289 52.09543)</td>\n",
       "    </tr>\n",
       "    <tr>\n",
       "      <th>...</th>\n",
       "      <td>...</td>\n",
       "      <td>...</td>\n",
       "    </tr>\n",
       "    <tr>\n",
       "      <th>2316</th>\n",
       "      <td>9</td>\n",
       "      <td>POINT (5.62947 51.28787)</td>\n",
       "    </tr>\n",
       "    <tr>\n",
       "      <th>4616</th>\n",
       "      <td>9</td>\n",
       "      <td>POINT (5.62947 52.60672)</td>\n",
       "    </tr>\n",
       "    <tr>\n",
       "      <th>1298</th>\n",
       "      <td>9</td>\n",
       "      <td>POINT (9.90247 50.47575)</td>\n",
       "    </tr>\n",
       "    <tr>\n",
       "      <th>4591</th>\n",
       "      <td>9</td>\n",
       "      <td>POINT (9.63646 52.49332)</td>\n",
       "    </tr>\n",
       "    <tr>\n",
       "      <th>2781</th>\n",
       "      <td>9</td>\n",
       "      <td>POINT (9.21591 51.54267)</td>\n",
       "    </tr>\n",
       "  </tbody>\n",
       "</table>\n",
       "<p>10000 rows × 2 columns</p>\n",
       "</div>"
      ],
      "text/plain": [
       "      h2ph                  geometry\n",
       "3195     0  POINT (9.85427 51.82315)\n",
       "3636     0  POINT (6.65147 52.09543)\n",
       "3647     0  POINT (7.24889 52.09543)\n",
       "991      0  POINT (9.63646 50.30864)\n",
       "3655     0  POINT (7.65289 52.09543)\n",
       "...    ...                       ...\n",
       "2316     9  POINT (5.62947 51.28787)\n",
       "4616     9  POINT (5.62947 52.60672)\n",
       "1298     9  POINT (9.90247 50.47575)\n",
       "4591     9  POINT (9.63646 52.49332)\n",
       "2781     9  POINT (9.21591 51.54267)\n",
       "\n",
       "[10000 rows x 2 columns]"
      ]
     },
     "execution_count": 10,
     "metadata": {},
     "output_type": "execute_result"
    }
   ],
   "source": [
    "df = data_xr.to_dataframe().reset_index()\n",
    "\n",
    "gdf = gpd.GeoDataFrame(\n",
    "    df.h2ph, geometry=gpd.points_from_xy(df.xv,df.yv))\n",
    "\n",
    "gdf.sort_values('h2ph')"
   ]
  },
  {
   "cell_type": "code",
   "execution_count": 27,
   "id": "5050fd4d",
   "metadata": {},
   "outputs": [
    {
     "name": "stdout",
     "output_type": "stream",
     "text": [
      "[[9614. 9621. 9632. 9642. 9651. 9663. 9668. 9679. 9686. 9699.]\n",
      " [8414. 8421. 8432. 8442. 8451. 8463. 8468. 8479. 8486. 8499.]\n",
      " [7114. 7121. 7132. 7142. 7151. 7163. 7168. 7179. 7186. 7199.]\n",
      " [6314. 6321. 6332. 6342. 6351. 6363. 6368. 6379. 6386. 6399.]\n",
      " [5314. 5321. 5332. 5342. 5351. 5363. 5368. 5379. 5386. 5399.]\n",
      " [4214. 4221. 4232. 4242. 4251. 4263. 4268. 4279. 4286. 4299.]\n",
      " [3314. 3321. 3332. 3342. 3351. 3363. 3368. 3379. 3386. 3399.]\n",
      " [2314. 2321. 2332. 2342. 2351. 2363. 2368. 2379. 2386. 2399.]\n",
      " [1714. 1721. 1732. 1742. 1751. 1763. 1768. 1779. 1786. 1799.]\n",
      " [1014. 1021. 1032. 1042. 1051. 1063. 1068. 1079. 1086. 1099.]]\n"
     ]
    }
   ],
   "source": [
    "grid_cell  = ((shapes) for shapes in zip(gdf.geometry, gdf.index))\n",
    "raster = rasterio.features.rasterize(shapes=grid_cell, out_shape =[10,10], fill=np.NAN, all_touched= True, default_value=1, transform=affine.Affine.from_gdal(5.0, 0.5, 0.0, 54.9, 0.0, -0.5)) #, merge_alg= MergeAlg.replace\n",
    "print (raster)"
   ]
  },
  {
   "cell_type": "code",
   "execution_count": 34,
   "id": "8284d732",
   "metadata": {},
   "outputs": [
    {
     "data": {
      "text/plain": [
       "<matplotlib.colorbar.Colorbar at 0x7fd4fb813ee0>"
      ]
     },
     "execution_count": 34,
     "metadata": {},
     "output_type": "execute_result"
    },
    {
     "data": {
      "image/png": "[encoded data removed]",
      "text/plain": [
       "<Figure size 640x480 with 2 Axes>"
      ]
     },
     "metadata": {},
     "output_type": "display_data"
    }
   ],
   "source": [
    "import matplotlib.pyplot as plt\n",
    "\n",
    "plt.contourf(xxras, yyras, raster)\n",
    "plt.colorbar()\n",
    "\n",
    "#plt.scatter Use this!"
   ]
  },
  {
   "cell_type": "code",
   "execution_count": 29,
   "id": "647ccb35",
   "metadata": {},
   "outputs": [
    {
     "name": "stdout",
     "output_type": "stream",
     "text": [
      "100 100\n"
     ]
    }
   ],
   "source": [
    "print(np.unique(raster).shape[0], np.count_nonzero(raster))"
   ]
  },
  {
   "cell_type": "code",
   "execution_count": 30,
   "id": "7c940772",
   "metadata": {},
   "outputs": [
    {
     "data": {
      "text/plain": [
       "array([1014., 1021., 1032., 1042., 1051., 1063., 1068., 1079., 1086.,\n",
       "       1099., 1714., 1721., 1732., 1742., 1751., 1763., 1768., 1779.,\n",
       "       1786., 1799., 2314., 2321., 2332., 2342., 2351., 2363., 2368.,\n",
       "       2379., 2386., 2399., 3314., 3321., 3332., 3342., 3351., 3363.,\n",
       "       3368., 3379., 3386., 3399., 4214., 4221., 4232., 4242., 4251.,\n",
       "       4263., 4268., 4279., 4286., 4299., 5314., 5321., 5332., 5342.,\n",
       "       5351., 5363., 5368., 5379., 5386., 5399., 6314., 6321., 6332.,\n",
       "       6342., 6351., 6363., 6368., 6379., 6386., 6399., 7114., 7121.,\n",
       "       7132., 7142., 7151., 7163., 7168., 7179., 7186., 7199., 8414.,\n",
       "       8421., 8432., 8442., 8451., 8463., 8468., 8479., 8486., 8499.,\n",
       "       9614., 9621., 9632., 9642., 9651., 9663., 9668., 9679., 9686.,\n",
       "       9699.])"
      ]
     },
     "execution_count": 30,
     "metadata": {},
     "output_type": "execute_result"
    }
   ],
   "source": [
    "a = np.unique(raster)\n",
    "a"
   ]
  },
  {
   "cell_type": "code",
   "execution_count": 31,
   "id": "b2ef08f3",
   "metadata": {},
   "outputs": [
    {
     "data": {
      "text/plain": [
       "<matplotlib.collections.PathCollection at 0x7fd4fba14e20>"
      ]
     },
     "execution_count": 31,
     "metadata": {},
     "output_type": "execute_result"
    },
    {
     "data": {
      "image/png": "[encoded data removed]",
      "text/plain": [
       "<Figure size 640x480 with 1 Axes>"
      ]
     },
     "metadata": {},
     "output_type": "display_data"
    }
   ],
   "source": [
    "plt.scatter(data_xr.xv, data_xr.yv)"
   ]
  },
  {
   "cell_type": "code",
   "execution_count": 35,
   "id": "b83bb815",
   "metadata": {},
   "outputs": [
    {
     "data": {
      "text/plain": [
       "<matplotlib.colorbar.Colorbar at 0x7fd4fb67a440>"
      ]
     },
     "execution_count": 35,
     "metadata": {},
     "output_type": "execute_result"
    },
    {
     "data": {
      "image/png": "[encoded data removed]",
      "text/plain": [
       "<Figure size 640x480 with 2 Axes>"
      ]
     },
     "metadata": {},
     "output_type": "display_data"
    }
   ],
   "source": [
    "for i in np.unique(raster):\n",
    "    if i is not np.nan:\n",
    "        plt.scatter(data_xr.xv[np.int64(i)], data_xr.yv[np.int64(i)])\n",
    "        "
   ]
  },
  {
   "cell_type": "code",
   "execution_count": null,
   "id": "d21dcbd6",
   "metadata": {},
   "outputs": [],
   "source": []
  }
 ],
 "metadata": {
  "kernelspec": {
   "display_name": "Python 3.10.6 ('Mobyle')",
   "language": "python",
   "name": "python3"
  },
  "language_info": {
   "codemirror_mode": {
    "name": "ipython",
    "version": 3
   },
   "file_extension": ".py",
   "mimetype": "text/x-python",
   "name": "python",
   "nbconvert_exporter": "python",
   "pygments_lexer": "ipython3",
   "version": "3.10.6"
  },
  "vscode": {
   "interpreter": {
    "hash": "e9922b02fb441c366b511d60bda6d8b29459aa25c4d8ca012b811387403f72f7"
   }
  }
 },
 "nbformat": 4,
 "nbformat_minor": 5
}
