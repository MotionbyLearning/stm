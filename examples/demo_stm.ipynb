{
 "cells": [
  {
   "attachments": {},
   "cell_type": "markdown",
   "metadata": {},
   "source": [
    "# SpaceTime Matrix demo\n",
    "\n",
    "### Data used for this notebook\n",
    "- Space-time Matrix in `Zarr` format: [download](https://figshare.com/ndownloader/files/41957250)\n",
    "- Crop parcel polygons in `gpkg` format: [download](https://figshare.com/ndownloader/files/41012630)\n",
    "\n",
    "Refer to the [tutorial](https://github.com/MotionbyLearning/sarxarray/blob/main/examples/demo_sarxarray.ipynb) of `sarxarray` to see how to generate a STM from a SLC stack.\n",
    "\n",
    "### Setup environment\n",
    "For the python environment setup, we assume you already started an independent Python environment with Python version later than 3.10.\n",
    "\n",
    "To execute this notebook, first clone the `stm` repostory to your local and install it with `demo` extra options\n",
    "\n",
    "```sh\n",
    "git clone git@github.com:MotionbyLearning/stm.git\n",
    "cd stm\n",
    "pip install .[demo]\n",
    "```\n",
    "\n",
    "After installation, execute the notebook in a JupyterLab session, which can be started by running `jupyterlab` command in your command line:\n",
    "```bash\n",
    "jupyter-lab\n",
    "```\n",
    "\n",
    "A new tab will be opened in your default browser to execute this notebook."
   ]
  },
  {
   "cell_type": "code",
   "execution_count": null,
   "metadata": {},
   "outputs": [],
   "source": [
    "import numpy as np\n",
    "from pathlib import Path\n",
    "import stmtools"
   ]
  },
  {
   "cell_type": "markdown",
   "metadata": {},
   "source": [
    "### Loading SpaceTime Matrix from CSV file"
   ]
  },
  {
   "cell_type": "code",
   "execution_count": null,
   "metadata": {},
   "outputs": [],
   "source": [
    "# Reading example data\n",
    "stm_demo = stmtools.from_csv('./data/example.csv')\n",
    "stm_demo"
   ]
  },
  {
   "attachments": {},
   "cell_type": "markdown",
   "metadata": {},
   "source": [
    "### Loading SpaceTime Matrix from Zarr"
   ]
  },
  {
   "cell_type": "code",
   "execution_count": null,
   "metadata": {},
   "outputs": [],
   "source": [
    "import xarray as xr\n",
    "path_stm = Path('./stm.zarr')\n",
    "stm_demo = xr.open_zarr(path_stm)\n",
    "stm_demo = stm_demo.chunk({\"space\": 10000, \"time\":-1})\n",
    "stm_demo"
   ]
  },
  {
   "attachments": {},
   "cell_type": "markdown",
   "metadata": {},
   "source": [
    "### STM enrichment from Polygon file"
   ]
  },
  {
   "cell_type": "code",
   "execution_count": null,
   "metadata": {},
   "outputs": [],
   "source": [
    "# Path to the BRP polygon of NL\n",
    "path_polygon = Path('../../data/brp/brpgewaspercelen_concept_2022_wgs84.gpkg')"
   ]
  },
  {
   "cell_type": "code",
   "execution_count": null,
   "metadata": {},
   "outputs": [],
   "source": [
    "import geopandas as gpd\n",
    "# Read one row and check columns\n",
    "polygons_one_row = gpd.read_file(path_polygon, rows=1)\n",
    "polygons_one_row"
   ]
  },
  {
   "cell_type": "code",
   "execution_count": null,
   "metadata": {},
   "outputs": [],
   "source": [
    "import stmtools\n",
    "\n",
    "# Data enrichment\n",
    "fields_to_query = ['gewas', 'category']\n",
    "\n",
    "# When AoI is small and less number of chunks: directly feed in the polygon file. Multi-process can be blocked by file IO\n",
    "stm_demo = stm_demo.stm.enrich_from_polygon(path_polygon, fields_to_query)\n",
    "\n",
    "# # When AoI is big and large number of chunks: First load in the polygons\n",
    "# xmin, ymin, xmax, ymax = [\n",
    "#         stm_demo['lon'].data.min().compute(),\n",
    "#         stm_demo['lat'].data.min().compute(),\n",
    "#         stm_demo['lon'].data.max().compute(),\n",
    "#         stm_demo['lat'].data.max().compute(),\n",
    "#     ]\n",
    "# polygons = gpd.read_file(path_polygon, bbox=(xmin, ymin, xmax, ymax))\n",
    "# stm_demo = stm_demo.stm.enrich_from_polygon(polygons, fields_to_query)"
   ]
  },
  {
   "cell_type": "code",
   "execution_count": null,
   "metadata": {},
   "outputs": [],
   "source": [
    "stm_demo"
   ]
  },
  {
   "attachments": {},
   "cell_type": "markdown",
   "metadata": {},
   "source": [
    "### Subset by Polygons"
   ]
  },
  {
   "cell_type": "code",
   "execution_count": null,
   "metadata": {},
   "outputs": [],
   "source": [
    "stm_demo_subset = stm_demo.stm.subset(method='polygon', polygon=path_polygon)\n",
    "stm_demo_subset"
   ]
  },
  {
   "attachments": {},
   "cell_type": "markdown",
   "metadata": {},
   "source": [
    "### Visualize the points"
   ]
  },
  {
   "cell_type": "code",
   "execution_count": null,
   "metadata": {},
   "outputs": [],
   "source": [
    "from matplotlib import pyplot as plt\n",
    "fig, ax = plt.subplots()\n",
    "plt.scatter(stm_demo_subset.lon.data, stm_demo_subset.lat.data, s=0.1)"
   ]
  }
 ],
 "metadata": {
  "kernelspec": {
   "display_name": "Python 3 (ipykernel)",
   "language": "python",
   "name": "python3"
  },
  "language_info": {
   "codemirror_mode": {
    "name": "ipython",
    "version": 3
   },
   "file_extension": ".py",
   "mimetype": "text/x-python",
   "name": "python",
   "nbconvert_exporter": "python",
   "pygments_lexer": "ipython3",
   "version": "3.10.11"
  },
  "vscode": {
   "interpreter": {
    "hash": "9e01c548609991304941095191e3797ee41d91e6eab5b724963abbb6a743fe42"
   }
  }
 },
 "nbformat": 4,
 "nbformat_minor": 4
}
