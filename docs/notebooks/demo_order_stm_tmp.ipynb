{
 "cells": [
  {
   "attachments": {},
   "cell_type": "markdown",
   "metadata": {},
   "source": [
    "# Example Ordering\n",
    "\n",
    "In this example notebook, we will compare the performance of the operations of the Example Operations notebook with and without spatial ordering.\n",
    "\n",
    "For these operations, spatial ordering becomes beneficial when the chuck size is small relative to the data size. \n",
    "We will simulate this by choosing a chuck size that is a lot smaller than normally recommended.\n",
    "\n",
    "We will first load the example STM, order it according to the Morton code of the pixel coordinates and store and reload it. \n",
    "This will provide a fair comparison of delayed operations.\n",
    "\n",
    "We will then repeat the operations of the Example Operations notebook on both datasets and time them:\n",
    "\n",
    "1. Locate the entries in an STM which intersect building polygons;\n",
    "2. Add year of construction as an attribute to the STM.\n",
    "\n",
    "Finally, we will visualize the change in the order of the elements and compare the processing times."
   ]
  },
  {
   "cell_type": "markdown",
   "metadata": {},
   "source": [
    "## Prepare the data\n",
    "\n",
    "For setup and, see [Example Operations notebook](./demo_operations_stm.ipynb)"
   ]
  },
  {
   "cell_type": "code",
   "execution_count": 1,
   "metadata": {},
   "outputs": [],
   "source": [
    "from pathlib import Path\n",
    "import xarray as xr\n",
    "import numpy as np\n",
    "import shutil\n",
    "import stmtools"
   ]
  },
  {
   "cell_type": "code",
   "execution_count": 2,
   "metadata": {},
   "outputs": [],
   "source": [
    "# Load the example STM.\n",
    "path_stm = Path('./stm.zarr')\n",
    "path_stm_ordered = Path('./stm_ordered.zarr')\n",
    "\n",
    "# Note that normally we would advise using a chuck size closer to 10000.\n",
    "# This chunk size is chosen to demonstrate the potential advantages of spatial sorting for larger datasets.\n",
    "#chunksize = 10000\n",
    "chunksize = 500\n",
    "stmat = xr.open_zarr(path_stm)\n",
    "stmat = stmat.chunk({\"space\": chunksize, \"time\": -1})"
   ]
  },
  {
   "cell_type": "code",
   "execution_count": 3,
   "metadata": {},
   "outputs": [
    {
     "name": "stderr",
     "output_type": "stream",
     "text": [
      "/storage/miniforge3/envs/mbl_stmtools/lib/python3.11/site-packages/xarray/core/indexing.py:1430: PerformanceWarning: Slicing with an out-of-order index is generating 209 times more chunks\n",
      "  return self.array[key]\n"
     ]
    }
   ],
   "source": [
    "# Load the data again to order it.\n",
    "# Note that storing the data to zarr fails when the chunk size becomes too small.\n",
    "stmat_ordered_tmp = xr.open_zarr(path_stm)\n",
    "stmat_ordered_tmp = stmat_ordered_tmp.chunk({\"space\": 1000, \"time\": -1})\n",
    "\n",
    "# Reorder the STM.\n",
    "stmat_ordered_tmp = stmat_ordered_tmp.stm.reorder(xlabel=\"azimuth\", ylabel=\"range\")"
   ]
  },
  {
   "cell_type": "code",
   "execution_count": 4,
   "metadata": {},
   "outputs": [],
   "source": [
    "# Store and reload the ordered STM.\n",
    "shutil.rmtree(path_stm_ordered)\n",
    "stmat_ordered_tmp.to_zarr(path_stm_ordered)\n",
    "stmat_ordered = xr.open_zarr(path_stm_ordered)\n",
    "stmat_ordered = stmat_ordered.chunk({\"space\": chunksize, \"time\": -1})"
   ]
  },
  {
   "cell_type": "code",
   "execution_count": 5,
   "metadata": {},
   "outputs": [
    {
     "name": "stdout",
     "output_type": "stream",
     "text": [
      "<xarray.Dataset> Size: 14MB\n",
      "Dimensions:    (space: 78582, time: 10)\n",
      "Coordinates:\n",
      "    azimuth    (space) int64 629kB dask.array<chunksize=(500,), meta=np.ndarray>\n",
      "    lat        (space) float32 314kB dask.array<chunksize=(500,), meta=np.ndarray>\n",
      "    lon        (space) float32 314kB dask.array<chunksize=(500,), meta=np.ndarray>\n",
      "    range      (space) int64 629kB dask.array<chunksize=(500,), meta=np.ndarray>\n",
      "  * time       (time) int64 80B 0 1 2 3 4 5 6 7 8 9\n",
      "Dimensions without coordinates: space\n",
      "Data variables:\n",
      "    amplitude  (space, time) float32 3MB dask.array<chunksize=(500, 10), meta=np.ndarray>\n",
      "    complex    (space, time) complex64 6MB dask.array<chunksize=(500, 10), meta=np.ndarray>\n",
      "    phase      (space, time) float32 3MB dask.array<chunksize=(500, 10), meta=np.ndarray>\n",
      "Attributes:\n",
      "    multi-look:  coarsen-mean\n"
     ]
    }
   ],
   "source": [
    "print(stmat)"
   ]
  },
  {
   "cell_type": "code",
   "execution_count": 6,
   "metadata": {},
   "outputs": [
    {
     "name": "stdout",
     "output_type": "stream",
     "text": [
      "<xarray.Dataset> Size: 15MB\n",
      "Dimensions:    (space: 78582, time: 10)\n",
      "Coordinates:\n",
      "    azimuth    (space) int64 629kB dask.array<chunksize=(500,), meta=np.ndarray>\n",
      "    lat        (space) float32 314kB dask.array<chunksize=(500,), meta=np.ndarray>\n",
      "    lon        (space) float32 314kB dask.array<chunksize=(500,), meta=np.ndarray>\n",
      "    range      (space) int64 629kB dask.array<chunksize=(500,), meta=np.ndarray>\n",
      "  * time       (time) int64 80B 0 1 2 3 4 5 6 7 8 9\n",
      "Dimensions without coordinates: space\n",
      "Data variables:\n",
      "    amplitude  (space, time) float32 3MB dask.array<chunksize=(500, 10), meta=np.ndarray>\n",
      "    complex    (space, time) complex64 6MB dask.array<chunksize=(500, 10), meta=np.ndarray>\n",
      "    order      (space) int64 629kB dask.array<chunksize=(500,), meta=np.ndarray>\n",
      "    phase      (space, time) float32 3MB dask.array<chunksize=(500, 10), meta=np.ndarray>\n",
      "Attributes:\n",
      "    multi-look:  coarsen-mean\n"
     ]
    }
   ],
   "source": [
    "print(stmat_ordered)"
   ]
  },
  {
   "cell_type": "markdown",
   "metadata": {},
   "source": [
    "## Repeat example operations\n",
    "\n",
    "These operations are applied to both the original STM and the ordered STM.\n",
    "\n",
    "Note that this can take a few minutes."
   ]
  },
  {
   "cell_type": "code",
   "execution_count": 7,
   "metadata": {},
   "outputs": [],
   "source": [
    "path_polygon = Path('bag_light_AMS_WGS84.gpkg')\n",
    "fields_to_query = ['bouwjaar']"
   ]
  },
  {
   "cell_type": "code",
   "execution_count": null,
   "metadata": {},
   "outputs": [
    {
     "name": "stderr",
     "output_type": "stream",
     "text": [
      "/storage/MobyLe/stmtools/stmtools/stm.py:134: FutureWarning: The return type of `Dataset.dims` will be changed to return a set of dimension names in future, in order to be more consistent with `DataArray.dims`. To access a mapping from dimension names to lengths, please use `Dataset.sizes`.\n",
      "  if dim not in self._obj.dims.keys():\n"
     ]
    }
   ],
   "source": [
    "# Example operations on original STM.\n",
    "stmat_subset = stmat.stm.subset(method='polygon', polygon=path_polygon)\n",
    "stmat_enriched = stmat_subset.stm.enrich_from_polygon(path_polygon, fields_to_query)\n",
    "year_construction = stmat_enriched['bouwjaar'].compute()"
   ]
  },
  {
   "cell_type": "code",
   "execution_count": null,
   "metadata": {},
   "outputs": [],
   "source": [
    "# Example operations on ordered STM.\n",
    "stmat_ordered_subset = stmat_ordered.stm.subset(method='polygon', polygon=path_polygon)\n",
    "stmat_ordered_enriched = stmat_ordered_subset.stm.enrich_from_polygon(path_polygon, fields_to_query)\n",
    "year_construction = stmat_ordered_enriched['bouwjaar'].compute()"
   ]
  },
  {
   "cell_type": "code",
   "execution_count": null,
   "metadata": {},
   "outputs": [],
   "source": [
    "print(stmat_subset)"
   ]
  },
  {
   "cell_type": "code",
   "execution_count": null,
   "metadata": {},
   "outputs": [],
   "source": [
    "print(stmat_ordered_subset)"
   ]
  },
  {
   "attachments": {},
   "cell_type": "markdown",
   "metadata": {},
   "source": [
    "### Visualize the results\n",
    "\n",
    "The images below are colored by element index."
   ]
  },
  {
   "cell_type": "code",
   "execution_count": null,
   "metadata": {},
   "outputs": [],
   "source": [
    "from matplotlib import pyplot as plt\n",
    "import matplotlib.cm as cm"
   ]
  },
  {
   "cell_type": "code",
   "execution_count": null,
   "metadata": {},
   "outputs": [],
   "source": [
    "# Visualize original results.\n",
    "fig, ax = plt.subplots()\n",
    "plt.title(\"Element index, original\")\n",
    "plt.scatter(stmat_enriched.lon.data, stmat_enriched.lat.data, c=np.arange(len(stmat_enriched.lon)), s=0.004, cmap=cm.jet)\n",
    "plt.colorbar()"
   ]
  },
  {
   "cell_type": "code",
   "execution_count": null,
   "metadata": {},
   "outputs": [],
   "source": [
    "# Visualize ordered results.\n",
    "fig, ax = plt.subplots()\n",
    "plt.title(\"Element index, ordered\")\n",
    "plt.scatter(stmat_ordered_enriched.lon.data, stmat_ordered_enriched.lat.data, c=np.arange(len(stmat_ordered_enriched.lon)), s=0.004, cmap=cm.jet)\n",
    "plt.colorbar()"
   ]
  },
  {
   "cell_type": "markdown",
   "metadata": {},
   "source": [
    "### Compare processing times\n",
    "\n",
    "Note that these timing tests were not performed immediately, because the ```%timeit``` magic function does not allow variable assignment."
   ]
  },
  {
   "cell_type": "code",
   "execution_count": null,
   "metadata": {},
   "outputs": [],
   "source": [
    "# Compute timings of ordering STM.\n",
    "time_ordering = %timeit -o stmat.stm.reorder(xlabel=\"azimuth\", ylabel=\"range\")"
   ]
  },
  {
   "cell_type": "code",
   "execution_count": null,
   "metadata": {},
   "outputs": [],
   "source": [
    "# Compute timings of operations on original STM.\n",
    "time_subset = %timeit -o stmat.stm.subset(method='polygon', polygon=path_polygon)\n",
    "time_enrich = %timeit -o stmat_subset.stm.enrich_from_polygon(path_polygon, fields_to_query)\n",
    "time_enrich_compute = %timeit -o stmat_enriched['bouwjaar'].compute()"
   ]
  },
  {
   "cell_type": "code",
   "execution_count": null,
   "metadata": {},
   "outputs": [],
   "source": [
    "# Compute timings of operations on ordered STM.\n",
    "time_ordered_subset = %timeit -o stmat_ordered.stm.subset(method='polygon', polygon=path_polygon)\n",
    "time_ordered_enrich = %timeit -o stmat_ordered_subset.stm.enrich_from_polygon(path_polygon, fields_to_query)\n",
    "time_ordered_enrich_compute = %timeit -o stmat_ordered_enriched['bouwjaar'].compute()"
   ]
  },
  {
   "cell_type": "code",
   "execution_count": null,
   "metadata": {},
   "outputs": [],
   "source": [
    "print(f\"Ordering:           {time_ordering}\")"
   ]
  },
  {
   "cell_type": "code",
   "execution_count": null,
   "metadata": {},
   "outputs": [],
   "source": [
    "print(f\"Subset (original):  {time_subset}\")\n",
    "print(f\"Enrich (original):  {time_enrich}\")\n",
    "print(f\"Compute (original): {time_enrich_compute}\")"
   ]
  },
  {
   "cell_type": "code",
   "execution_count": null,
   "metadata": {},
   "outputs": [],
   "source": [
    "print(f\"Subset (ordered):   {time_ordered_subset}\")\n",
    "print(f\"Enrich (ordered):   {time_ordered_enrich}\")\n",
    "print(f\"Compute (ordered):  {time_ordered_enrich_compute}\")"
   ]
  },
  {
   "cell_type": "code",
   "execution_count": null,
   "metadata": {},
   "outputs": [],
   "source": [
    "print(f\"Subset (diff):      {time_subset.average-time_ordered_subset.average}\")\n",
    "print(f\"Enrich (diff):      {time_enrich.average-time_ordered_enrich.average}\")\n",
    "print(f\"Compute (diff):     {time_enrich_compute.average-time_ordered_enrich_compute.average}\")"
   ]
  },
  {
   "cell_type": "code",
   "execution_count": null,
   "metadata": {},
   "outputs": [],
   "source": []
  }
 ],
 "metadata": {
  "kernelspec": {
   "display_name": "mbl_stmtools",
   "language": "python",
   "name": "mbl_stmtools"
  },
  "language_info": {
   "codemirror_mode": {
    "name": "ipython",
    "version": 3
   },
   "file_extension": ".py",
   "mimetype": "text/x-python",
   "name": "python",
   "nbconvert_exporter": "python",
   "pygments_lexer": "ipython3",
   "version": "3.11.8"
  },
  "vscode": {
   "interpreter": {
    "hash": "9e01c548609991304941095191e3797ee41d91e6eab5b724963abbb6a743fe42"
   }
  }
 },
 "nbformat": 4,
 "nbformat_minor": 4
}
