{
 "cells": [
  {
   "attachments": {},
   "cell_type": "markdown",
   "metadata": {},
   "source": [
    "# Example Ordering\n",
    "\n",
    "In this example notebook, we will repeat the operations of the Example Operations notebook and time them:\n",
    "\n",
    "1. Locate the entries in an STM which intersect building polygons;\n",
    "2. Add year of construction as an attribute to the STM.\n",
    "\n",
    "Then we will order the STM according to the Morton code of the pixel coordinates and repeat these operations, again timing them.\n",
    "\n",
    "Finally, we will visualize the change in the order of the elements and compare the processing times."
   ]
  },
  {
   "cell_type": "markdown",
   "metadata": {},
   "source": [
    "## Repeat example operations \n",
    "\n",
    "For setup and more notes on the operations, see [Example Operations notebook](./demo_operations_stm.ipynb)\n",
    "\n",
    "Note that this can take a few minutes."
   ]
  },
  {
   "cell_type": "code",
   "execution_count": 1,
   "metadata": {},
   "outputs": [],
   "source": [
    "from pathlib import Path\n",
    "import xarray as xr\n",
    "import numpy as np\n",
    "import stmtools\n",
    "\n",
    "path_stm = Path('./stm.zarr')\n",
    "#chunksize = 10000\n",
    "chunksize = 500\n",
    "path_polygon = Path('bag_light_AMS_WGS84.gpkg')\n",
    "fields_to_query = ['bouwjaar']"
   ]
  },
  {
   "cell_type": "code",
   "execution_count": null,
   "metadata": {},
   "outputs": [
    {
     "name": "stderr",
     "output_type": "stream",
     "text": [
      "/storage/MobyLe/stmtools/stmtools/stm.py:134: FutureWarning: The return type of `Dataset.dims` will be changed to return a set of dimension names in future, in order to be more consistent with `DataArray.dims`. To access a mapping from dimension names to lengths, please use `Dataset.sizes`.\n",
      "  if dim not in self._obj.dims.keys():\n"
     ]
    }
   ],
   "source": [
    "# Example operations on original STM.\n",
    "stmat = xr.open_zarr(path_stm)\n",
    "stmat = stmat.chunk({\"space\": chunksize, \"time\": -1})\n",
    "stmat_subset = stmat.stm.subset(method='polygon', polygon=path_polygon)\n",
    "stmat_enriched = stmat_subset.stm.enrich_from_polygon(path_polygon, fields_to_query)\n",
    "year_construction = stmat_enriched['bouwjaar'].compute()"
   ]
  },
  {
   "cell_type": "code",
   "execution_count": null,
   "metadata": {},
   "outputs": [],
   "source": [
    "print(stmat)"
   ]
  },
  {
   "cell_type": "code",
   "execution_count": null,
   "metadata": {},
   "outputs": [],
   "source": [
    "print(stmat_subset)"
   ]
  },
  {
   "cell_type": "markdown",
   "metadata": {},
   "source": [
    "### Compute timing statistics for the operations\n",
    "\n",
    "Note that these timing tests were not performed immediately, because the ```%timeit``` magic function does not allow variable assignment."
   ]
  },
  {
   "cell_type": "code",
   "execution_count": null,
   "metadata": {},
   "outputs": [],
   "source": [
    "# Compute timings of operations on original STM.\n",
    "time_subset = %timeit -o stmat.stm.subset(method='polygon', polygon=path_polygon)\n",
    "time_enrich = %timeit -o stmat_subset.stm.enrich_from_polygon(path_polygon, fields_to_query)\n",
    "time_enrich_compute = %timeit -o stmat_enriched['bouwjaar'].compute()"
   ]
  },
  {
   "attachments": {},
   "cell_type": "markdown",
   "metadata": {},
   "source": [
    "## Reorder STM and repeat operations"
   ]
  },
  {
   "cell_type": "code",
   "execution_count": null,
   "metadata": {},
   "outputs": [],
   "source": [
    "# Reorder STM.\n",
    "stmat_ordered = stmat.stm.reorder(xlabel=\"azimuth\", ylabel=\"range\")"
   ]
  },
  {
   "cell_type": "code",
   "execution_count": null,
   "metadata": {},
   "outputs": [],
   "source": [
    "## stmat_ordered = stmat_ordered.unify_chunks()\n",
    "#stmat_ordered_chunked = stmat_ordered.chunk({\"space\": 10000, \"time\":-1})\n",
    "#stmat_ordered_chunked"
   ]
  },
  {
   "cell_type": "code",
   "execution_count": null,
   "metadata": {},
   "outputs": [],
   "source": [
    "# Repeat example operations on ordered STM.\n",
    "stmat_ordered_subset = stmat_ordered.stm.subset(method='polygon', polygon=path_polygon)\n",
    "stmat_ordered_enriched = stmat_ordered_subset.stm.enrich_from_polygon(path_polygon, fields_to_query)\n",
    "year_construction = stmat_enriched['bouwjaar'].compute()"
   ]
  },
  {
   "cell_type": "code",
   "execution_count": null,
   "metadata": {},
   "outputs": [],
   "source": [
    "print(stmat_ordered)"
   ]
  },
  {
   "cell_type": "code",
   "execution_count": null,
   "metadata": {},
   "outputs": [],
   "source": [
    "print(stmat_ordered_subset)"
   ]
  },
  {
   "cell_type": "markdown",
   "metadata": {},
   "source": [
    "### Compute timing statistics for the operations above."
   ]
  },
  {
   "cell_type": "code",
   "execution_count": null,
   "metadata": {},
   "outputs": [],
   "source": [
    "# Compute timings of ordering STM.\n",
    "time_ordering = %timeit -o stmat.stm.reorder(xlabel=\"azimuth\", ylabel=\"range\")"
   ]
  },
  {
   "cell_type": "code",
   "execution_count": null,
   "metadata": {},
   "outputs": [],
   "source": [
    "# Compute timings of operations on ordered STM.\n",
    "time_ordered_subset = %timeit -o stmat_ordered.stm.subset(method='polygon', polygon=path_polygon)\n",
    "time_ordered_enrich = %timeit -o stmat_ordered_subset.stm.enrich_from_polygon(path_polygon, fields_to_query)\n",
    "time_ordered_enrich_compute = %timeit -o stmat_ordered_enriched['bouwjaar'].compute()"
   ]
  },
  {
   "attachments": {},
   "cell_type": "markdown",
   "metadata": {},
   "source": [
    "## Visualize the results\n",
    "\n",
    "The images below are colored by element index."
   ]
  },
  {
   "cell_type": "code",
   "execution_count": null,
   "metadata": {},
   "outputs": [],
   "source": [
    "from matplotlib import pyplot as plt\n",
    "import matplotlib.cm as cm"
   ]
  },
  {
   "cell_type": "code",
   "execution_count": null,
   "metadata": {},
   "outputs": [],
   "source": [
    "# Visualize original results.\n",
    "fig, ax = plt.subplots()\n",
    "plt.title(\"Element index, original\")\n",
    "plt.scatter(stmat_enriched.lon.data, stmat_enriched.lat.data, c=np.arange(len(stmat_enriched.lon)), s=0.004, cmap=cm.jet)\n",
    "plt.colorbar()"
   ]
  },
  {
   "cell_type": "code",
   "execution_count": null,
   "metadata": {},
   "outputs": [],
   "source": [
    "# Visualize ordered results.\n",
    "fig, ax = plt.subplots()\n",
    "plt.title(\"Element index, ordered\")\n",
    "plt.scatter(stmat_ordered_enriched.lon.data, stmat_ordered_enriched.lat.data, c=np.arange(len(stmat_ordered_enriched.lon)), s=0.004, cmap=cm.jet)\n",
    "plt.colorbar()"
   ]
  },
  {
   "cell_type": "markdown",
   "metadata": {},
   "source": [
    "### Compare operation times"
   ]
  },
  {
   "cell_type": "code",
   "execution_count": null,
   "metadata": {},
   "outputs": [],
   "source": [
    "print(f\"Subset (original):  {time_subset}\")\n",
    "print(f\"Enrich (original):  {time_enrich}\")\n",
    "print(f\"Compute (original): {time_enrich_compute}\")"
   ]
  },
  {
   "cell_type": "code",
   "execution_count": null,
   "metadata": {},
   "outputs": [],
   "source": [
    "print(f\"Ordering:           {time_ordering}\")"
   ]
  },
  {
   "cell_type": "code",
   "execution_count": null,
   "metadata": {},
   "outputs": [],
   "source": [
    "print(f\"Subset (ordered):   {time_ordered_subset}\")\n",
    "print(f\"Enrich (ordered):   {time_ordered_enrich}\")\n",
    "print(f\"Compute (ordered):  {time_ordered_enrich_compute}\")"
   ]
  },
  {
   "cell_type": "code",
   "execution_count": null,
   "metadata": {},
   "outputs": [],
   "source": [
    "print(f\"Subset (diff):      {time_subset.average-time_ordered_subset.average}\")\n",
    "print(f\"Enrich (diff):      {time_enrich.average-time_ordered_enrich.average}\")\n",
    "print(f\"Compute (diff):     {time_enrich_compute.average-time_ordered_enrich_compute.average}\")"
   ]
  },
  {
   "cell_type": "code",
   "execution_count": null,
   "metadata": {},
   "outputs": [],
   "source": []
  },
  {
   "cell_type": "code",
   "execution_count": null,
   "metadata": {},
   "outputs": [],
   "source": []
  }
 ],
 "metadata": {
  "kernelspec": {
   "display_name": "mbl_stmtools",
   "language": "python",
   "name": "mbl_stmtools"
  },
  "language_info": {
   "codemirror_mode": {
    "name": "ipython",
    "version": 3
   },
   "file_extension": ".py",
   "mimetype": "text/x-python",
   "name": "python",
   "nbconvert_exporter": "python",
   "pygments_lexer": "ipython3",
   "version": "3.11.8"
  },
  "vscode": {
   "interpreter": {
    "hash": "9e01c548609991304941095191e3797ee41d91e6eab5b724963abbb6a743fe42"
   }
  }
 },
 "nbformat": 4,
 "nbformat_minor": 4
}
